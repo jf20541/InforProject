{
 "cells": [
  {
   "cell_type": "code",
   "execution_count": 279,
   "id": "61c8be11",
   "metadata": {},
   "outputs": [],
   "source": [
    "import pandas as pd\n",
    "import pandas as pd\n",
    "import numpy as np\n",
    "import matplotlib.pyplot as plt\n",
    "from sklearn.feature_selection import VarianceThreshold, mutual_info_regression\n",
    "from sklearn.tree import ExtraTreeRegressor\n",
    "import seaborn as sns"
   ]
  },
  {
   "cell_type": "code",
   "execution_count": 280,
   "id": "c0f1adc0",
   "metadata": {},
   "outputs": [
    {
     "data": {
      "text/html": [
       "<div>\n",
       "<style scoped>\n",
       "    .dataframe tbody tr th:only-of-type {\n",
       "        vertical-align: middle;\n",
       "    }\n",
       "\n",
       "    .dataframe tbody tr th {\n",
       "        vertical-align: top;\n",
       "    }\n",
       "\n",
       "    .dataframe thead th {\n",
       "        text-align: right;\n",
       "    }\n",
       "</style>\n",
       "<table border=\"1\" class=\"dataframe\">\n",
       "  <thead>\n",
       "    <tr style=\"text-align: right;\">\n",
       "      <th></th>\n",
       "      <th>0.78697</th>\n",
       "      <th>0.041667</th>\n",
       "      <th>1.0343</th>\n",
       "      <th>0.0030988</th>\n",
       "      <th>1</th>\n",
       "      <th>339.47</th>\n",
       "      <th>313.21</th>\n",
       "      <th>355.85</th>\n",
       "      <th>386.69</th>\n",
       "      <th>399.7</th>\n",
       "      <th>359.67</th>\n",
       "      <th>331.49</th>\n",
       "      <th>319.5</th>\n",
       "      <th>315.81</th>\n",
       "      <th>0.16961</th>\n",
       "      <th>0</th>\n",
       "    </tr>\n",
       "  </thead>\n",
       "  <tbody>\n",
       "    <tr>\n",
       "      <th>0</th>\n",
       "      <td>0.78723</td>\n",
       "      <td>0.083333</td>\n",
       "      <td>1.0740</td>\n",
       "      <td>0.003150</td>\n",
       "      <td>1</td>\n",
       "      <td>340.65</td>\n",
       "      <td>314.05</td>\n",
       "      <td>355.74</td>\n",
       "      <td>387.28</td>\n",
       "      <td>401.72</td>\n",
       "      <td>359.74</td>\n",
       "      <td>331.88</td>\n",
       "      <td>319.95</td>\n",
       "      <td>317.60</td>\n",
       "      <td>0.16808</td>\n",
       "      <td>0.0</td>\n",
       "    </tr>\n",
       "    <tr>\n",
       "      <th>1</th>\n",
       "      <td>0.78749</td>\n",
       "      <td>0.125000</td>\n",
       "      <td>1.1318</td>\n",
       "      <td>0.003285</td>\n",
       "      <td>1</td>\n",
       "      <td>341.52</td>\n",
       "      <td>314.83</td>\n",
       "      <td>357.70</td>\n",
       "      <td>387.42</td>\n",
       "      <td>403.38</td>\n",
       "      <td>363.33</td>\n",
       "      <td>335.99</td>\n",
       "      <td>322.01</td>\n",
       "      <td>318.03</td>\n",
       "      <td>0.17019</td>\n",
       "      <td>0.0</td>\n",
       "    </tr>\n",
       "    <tr>\n",
       "      <th>2</th>\n",
       "      <td>0.79498</td>\n",
       "      <td>0.166670</td>\n",
       "      <td>1.1260</td>\n",
       "      <td>0.003243</td>\n",
       "      <td>1</td>\n",
       "      <td>341.28</td>\n",
       "      <td>314.41</td>\n",
       "      <td>355.76</td>\n",
       "      <td>385.90</td>\n",
       "      <td>402.21</td>\n",
       "      <td>362.79</td>\n",
       "      <td>334.76</td>\n",
       "      <td>320.91</td>\n",
       "      <td>317.38</td>\n",
       "      <td>0.16979</td>\n",
       "      <td>0.0</td>\n",
       "    </tr>\n",
       "    <tr>\n",
       "      <th>3</th>\n",
       "      <td>0.78846</td>\n",
       "      <td>0.208330</td>\n",
       "      <td>1.1189</td>\n",
       "      <td>0.003328</td>\n",
       "      <td>1</td>\n",
       "      <td>332.08</td>\n",
       "      <td>304.61</td>\n",
       "      <td>336.61</td>\n",
       "      <td>342.66</td>\n",
       "      <td>360.79</td>\n",
       "      <td>369.06</td>\n",
       "      <td>337.22</td>\n",
       "      <td>317.23</td>\n",
       "      <td>311.82</td>\n",
       "      <td>0.16988</td>\n",
       "      <td>0.0</td>\n",
       "    </tr>\n",
       "    <tr>\n",
       "      <th>4</th>\n",
       "      <td>0.79302</td>\n",
       "      <td>0.250000</td>\n",
       "      <td>1.1090</td>\n",
       "      <td>0.003308</td>\n",
       "      <td>1</td>\n",
       "      <td>326.39</td>\n",
       "      <td>299.05</td>\n",
       "      <td>327.23</td>\n",
       "      <td>328.15</td>\n",
       "      <td>329.01</td>\n",
       "      <td>328.50</td>\n",
       "      <td>324.85</td>\n",
       "      <td>316.19</td>\n",
       "      <td>312.79</td>\n",
       "      <td>0.16699</td>\n",
       "      <td>0.0</td>\n",
       "    </tr>\n",
       "  </tbody>\n",
       "</table>\n",
       "</div>"
      ],
      "text/plain": [
       "   0.78697  0.041667  1.0343  0.0030988  1  339.47  313.21  355.85  386.69  \\\n",
       "0  0.78723  0.083333  1.0740   0.003150  1  340.65  314.05  355.74  387.28   \n",
       "1  0.78749  0.125000  1.1318   0.003285  1  341.52  314.83  357.70  387.42   \n",
       "2  0.79498  0.166670  1.1260   0.003243  1  341.28  314.41  355.76  385.90   \n",
       "3  0.78846  0.208330  1.1189   0.003328  1  332.08  304.61  336.61  342.66   \n",
       "4  0.79302  0.250000  1.1090   0.003308  1  326.39  299.05  327.23  328.15   \n",
       "\n",
       "    399.7  359.67  331.49   319.5  315.81  0.16961    0  \n",
       "0  401.72  359.74  331.88  319.95  317.60  0.16808  0.0  \n",
       "1  403.38  363.33  335.99  322.01  318.03  0.17019  0.0  \n",
       "2  402.21  362.79  334.76  320.91  317.38  0.16979  0.0  \n",
       "3  360.79  369.06  337.22  317.23  311.82  0.16988  0.0  \n",
       "4  329.01  328.50  324.85  316.19  312.79  0.16699  0.0  "
      ]
     },
     "execution_count": 280,
     "metadata": {},
     "output_type": "execute_result"
    }
   ],
   "source": [
    "df = pd.read_csv('../inputs/data.csv')\n",
    "df.head()"
   ]
  },
  {
   "cell_type": "code",
   "execution_count": 281,
   "id": "5761c57b",
   "metadata": {},
   "outputs": [
    {
     "name": "stdout",
     "output_type": "stream",
     "text": [
      "DataFrame has 5806 Rows and 16 Columns\n"
     ]
    }
   ],
   "source": [
    "print(f'DataFrame has {df.shape[0]} Rows and {df.shape[1]} Columns')"
   ]
  },
  {
   "cell_type": "code",
   "execution_count": 282,
   "id": "d70a3eab",
   "metadata": {},
   "outputs": [
    {
     "data": {
      "text/plain": [
       "float64    15\n",
       "int64       1\n",
       "dtype: int64"
      ]
     },
     "execution_count": 282,
     "metadata": {},
     "output_type": "execute_result"
    }
   ],
   "source": [
    "# number of features with data types (int, float)\n",
    "df.dtypes.value_counts()"
   ]
  },
  {
   "cell_type": "code",
   "execution_count": 283,
   "id": "3730ea72",
   "metadata": {},
   "outputs": [
    {
     "data": {
      "text/html": [
       "<div>\n",
       "<style scoped>\n",
       "    .dataframe tbody tr th:only-of-type {\n",
       "        vertical-align: middle;\n",
       "    }\n",
       "\n",
       "    .dataframe tbody tr th {\n",
       "        vertical-align: top;\n",
       "    }\n",
       "\n",
       "    .dataframe thead th {\n",
       "        text-align: right;\n",
       "    }\n",
       "</style>\n",
       "<table border=\"1\" class=\"dataframe\">\n",
       "  <thead>\n",
       "    <tr style=\"text-align: right;\">\n",
       "      <th></th>\n",
       "      <th>0.78697</th>\n",
       "      <th>0.041667</th>\n",
       "      <th>1.0343</th>\n",
       "      <th>0.0030988</th>\n",
       "      <th>1</th>\n",
       "      <th>339.47</th>\n",
       "      <th>313.21</th>\n",
       "      <th>355.85</th>\n",
       "      <th>386.69</th>\n",
       "      <th>399.7</th>\n",
       "      <th>359.67</th>\n",
       "      <th>331.49</th>\n",
       "      <th>319.5</th>\n",
       "      <th>315.81</th>\n",
       "      <th>0.16961</th>\n",
       "      <th>0</th>\n",
       "    </tr>\n",
       "  </thead>\n",
       "  <tbody>\n",
       "    <tr>\n",
       "      <th>count</th>\n",
       "      <td>5806.000000</td>\n",
       "      <td>5806.000000</td>\n",
       "      <td>5806.000000</td>\n",
       "      <td>5806.000000</td>\n",
       "      <td>5806.0</td>\n",
       "      <td>5806.000000</td>\n",
       "      <td>5806.000000</td>\n",
       "      <td>5806.000000</td>\n",
       "      <td>5806.000000</td>\n",
       "      <td>5806.000000</td>\n",
       "      <td>5806.000000</td>\n",
       "      <td>5806.000000</td>\n",
       "      <td>5806.000000</td>\n",
       "      <td>5806.000000</td>\n",
       "      <td>5806.000000</td>\n",
       "      <td>5.806000e+03</td>\n",
       "    </tr>\n",
       "    <tr>\n",
       "      <th>mean</th>\n",
       "      <td>0.446840</td>\n",
       "      <td>121.020833</td>\n",
       "      <td>1.077662</td>\n",
       "      <td>0.004360</td>\n",
       "      <td>1.0</td>\n",
       "      <td>331.673820</td>\n",
       "      <td>323.801297</td>\n",
       "      <td>339.636576</td>\n",
       "      <td>353.088047</td>\n",
       "      <td>384.449437</td>\n",
       "      <td>385.751078</td>\n",
       "      <td>359.769173</td>\n",
       "      <td>339.263915</td>\n",
       "      <td>333.210129</td>\n",
       "      <td>0.165112</td>\n",
       "      <td>2.425590e-04</td>\n",
       "    </tr>\n",
       "    <tr>\n",
       "      <th>std</th>\n",
       "      <td>0.209011</td>\n",
       "      <td>69.841342</td>\n",
       "      <td>0.184546</td>\n",
       "      <td>0.002469</td>\n",
       "      <td>0.0</td>\n",
       "      <td>18.098991</td>\n",
       "      <td>21.023113</td>\n",
       "      <td>29.590360</td>\n",
       "      <td>46.365478</td>\n",
       "      <td>74.050604</td>\n",
       "      <td>63.285732</td>\n",
       "      <td>38.519983</td>\n",
       "      <td>25.419661</td>\n",
       "      <td>22.546425</td>\n",
       "      <td>0.014073</td>\n",
       "      <td>9.236323e-04</td>\n",
       "    </tr>\n",
       "    <tr>\n",
       "      <th>min</th>\n",
       "      <td>0.213950</td>\n",
       "      <td>0.083333</td>\n",
       "      <td>0.114620</td>\n",
       "      <td>0.000022</td>\n",
       "      <td>1.0</td>\n",
       "      <td>118.340000</td>\n",
       "      <td>116.490000</td>\n",
       "      <td>117.540000</td>\n",
       "      <td>117.340000</td>\n",
       "      <td>116.920000</td>\n",
       "      <td>116.540000</td>\n",
       "      <td>116.630000</td>\n",
       "      <td>116.530000</td>\n",
       "      <td>116.410000</td>\n",
       "      <td>0.123640</td>\n",
       "      <td>0.000000e+00</td>\n",
       "    </tr>\n",
       "    <tr>\n",
       "      <th>25%</th>\n",
       "      <td>0.255055</td>\n",
       "      <td>60.552250</td>\n",
       "      <td>0.982408</td>\n",
       "      <td>0.002488</td>\n",
       "      <td>1.0</td>\n",
       "      <td>326.770000</td>\n",
       "      <td>313.832500</td>\n",
       "      <td>329.502500</td>\n",
       "      <td>332.450000</td>\n",
       "      <td>336.482500</td>\n",
       "      <td>339.802500</td>\n",
       "      <td>334.457500</td>\n",
       "      <td>325.920000</td>\n",
       "      <td>323.100000</td>\n",
       "      <td>0.158562</td>\n",
       "      <td>0.000000e+00</td>\n",
       "    </tr>\n",
       "    <tr>\n",
       "      <th>50%</th>\n",
       "      <td>0.400230</td>\n",
       "      <td>121.020000</td>\n",
       "      <td>1.111700</td>\n",
       "      <td>0.003935</td>\n",
       "      <td>1.0</td>\n",
       "      <td>333.880000</td>\n",
       "      <td>326.190000</td>\n",
       "      <td>338.985000</td>\n",
       "      <td>344.545000</td>\n",
       "      <td>361.655000</td>\n",
       "      <td>377.845000</td>\n",
       "      <td>364.710000</td>\n",
       "      <td>344.530000</td>\n",
       "      <td>337.395000</td>\n",
       "      <td>0.167500</td>\n",
       "      <td>0.000000e+00</td>\n",
       "    </tr>\n",
       "    <tr>\n",
       "      <th>75%</th>\n",
       "      <td>0.578043</td>\n",
       "      <td>181.490000</td>\n",
       "      <td>1.201150</td>\n",
       "      <td>0.006415</td>\n",
       "      <td>1.0</td>\n",
       "      <td>339.032500</td>\n",
       "      <td>337.590000</td>\n",
       "      <td>347.097500</td>\n",
       "      <td>360.877500</td>\n",
       "      <td>420.270000</td>\n",
       "      <td>429.925000</td>\n",
       "      <td>384.457500</td>\n",
       "      <td>353.807500</td>\n",
       "      <td>346.070000</td>\n",
       "      <td>0.172407</td>\n",
       "      <td>4.864600e-07</td>\n",
       "    </tr>\n",
       "    <tr>\n",
       "      <th>max</th>\n",
       "      <td>1.009800</td>\n",
       "      <td>241.960000</td>\n",
       "      <td>1.637800</td>\n",
       "      <td>0.015698</td>\n",
       "      <td>1.0</td>\n",
       "      <td>373.980000</td>\n",
       "      <td>382.340000</td>\n",
       "      <td>808.100000</td>\n",
       "      <td>721.100000</td>\n",
       "      <td>714.490000</td>\n",
       "      <td>575.770000</td>\n",
       "      <td>529.310000</td>\n",
       "      <td>476.110000</td>\n",
       "      <td>416.080000</td>\n",
       "      <td>0.959940</td>\n",
       "      <td>1.038700e-02</td>\n",
       "    </tr>\n",
       "  </tbody>\n",
       "</table>\n",
       "</div>"
      ],
      "text/plain": [
       "           0.78697     0.041667       1.0343    0.0030988       1  \\\n",
       "count  5806.000000  5806.000000  5806.000000  5806.000000  5806.0   \n",
       "mean      0.446840   121.020833     1.077662     0.004360     1.0   \n",
       "std       0.209011    69.841342     0.184546     0.002469     0.0   \n",
       "min       0.213950     0.083333     0.114620     0.000022     1.0   \n",
       "25%       0.255055    60.552250     0.982408     0.002488     1.0   \n",
       "50%       0.400230   121.020000     1.111700     0.003935     1.0   \n",
       "75%       0.578043   181.490000     1.201150     0.006415     1.0   \n",
       "max       1.009800   241.960000     1.637800     0.015698     1.0   \n",
       "\n",
       "            339.47       313.21       355.85       386.69        399.7  \\\n",
       "count  5806.000000  5806.000000  5806.000000  5806.000000  5806.000000   \n",
       "mean    331.673820   323.801297   339.636576   353.088047   384.449437   \n",
       "std      18.098991    21.023113    29.590360    46.365478    74.050604   \n",
       "min     118.340000   116.490000   117.540000   117.340000   116.920000   \n",
       "25%     326.770000   313.832500   329.502500   332.450000   336.482500   \n",
       "50%     333.880000   326.190000   338.985000   344.545000   361.655000   \n",
       "75%     339.032500   337.590000   347.097500   360.877500   420.270000   \n",
       "max     373.980000   382.340000   808.100000   721.100000   714.490000   \n",
       "\n",
       "            359.67       331.49        319.5       315.81      0.16961  \\\n",
       "count  5806.000000  5806.000000  5806.000000  5806.000000  5806.000000   \n",
       "mean    385.751078   359.769173   339.263915   333.210129     0.165112   \n",
       "std      63.285732    38.519983    25.419661    22.546425     0.014073   \n",
       "min     116.540000   116.630000   116.530000   116.410000     0.123640   \n",
       "25%     339.802500   334.457500   325.920000   323.100000     0.158562   \n",
       "50%     377.845000   364.710000   344.530000   337.395000     0.167500   \n",
       "75%     429.925000   384.457500   353.807500   346.070000     0.172407   \n",
       "max     575.770000   529.310000   476.110000   416.080000     0.959940   \n",
       "\n",
       "                  0  \n",
       "count  5.806000e+03  \n",
       "mean   2.425590e-04  \n",
       "std    9.236323e-04  \n",
       "min    0.000000e+00  \n",
       "25%    0.000000e+00  \n",
       "50%    0.000000e+00  \n",
       "75%    4.864600e-07  \n",
       "max    1.038700e-02  "
      ]
     },
     "execution_count": 283,
     "metadata": {},
     "output_type": "execute_result"
    }
   ],
   "source": [
    "# statistical summary of (numerical) dtypes  \n",
    "# check for significant min/max values\n",
    "df.describe()"
   ]
  },
  {
   "cell_type": "code",
   "execution_count": 284,
   "id": "d89bd194",
   "metadata": {},
   "outputs": [
    {
     "data": {
      "text/html": [
       "<div>\n",
       "<style scoped>\n",
       "    .dataframe tbody tr th:only-of-type {\n",
       "        vertical-align: middle;\n",
       "    }\n",
       "\n",
       "    .dataframe tbody tr th {\n",
       "        vertical-align: top;\n",
       "    }\n",
       "\n",
       "    .dataframe thead th {\n",
       "        text-align: right;\n",
       "    }\n",
       "</style>\n",
       "<table border=\"1\" class=\"dataframe\">\n",
       "  <thead>\n",
       "    <tr style=\"text-align: right;\">\n",
       "      <th></th>\n",
       "      <th>0.78697</th>\n",
       "      <th>0.041667</th>\n",
       "      <th>1.0343</th>\n",
       "      <th>0.0030988</th>\n",
       "      <th>1</th>\n",
       "      <th>339.47</th>\n",
       "      <th>313.21</th>\n",
       "      <th>355.85</th>\n",
       "      <th>386.69</th>\n",
       "      <th>399.7</th>\n",
       "      <th>359.67</th>\n",
       "      <th>331.49</th>\n",
       "      <th>319.5</th>\n",
       "      <th>315.81</th>\n",
       "      <th>0.16961</th>\n",
       "      <th>0</th>\n",
       "    </tr>\n",
       "  </thead>\n",
       "  <tbody>\n",
       "    <tr>\n",
       "      <th>datatype</th>\n",
       "      <td>float64</td>\n",
       "      <td>float64</td>\n",
       "      <td>float64</td>\n",
       "      <td>float64</td>\n",
       "      <td>int64</td>\n",
       "      <td>float64</td>\n",
       "      <td>float64</td>\n",
       "      <td>float64</td>\n",
       "      <td>float64</td>\n",
       "      <td>float64</td>\n",
       "      <td>float64</td>\n",
       "      <td>float64</td>\n",
       "      <td>float64</td>\n",
       "      <td>float64</td>\n",
       "      <td>float64</td>\n",
       "      <td>float64</td>\n",
       "    </tr>\n",
       "    <tr>\n",
       "      <th>pct_null_values</th>\n",
       "      <td>0.0</td>\n",
       "      <td>0.0</td>\n",
       "      <td>0.0</td>\n",
       "      <td>0.0</td>\n",
       "      <td>0.0</td>\n",
       "      <td>0.0</td>\n",
       "      <td>0.0</td>\n",
       "      <td>0.0</td>\n",
       "      <td>0.0</td>\n",
       "      <td>0.0</td>\n",
       "      <td>0.0</td>\n",
       "      <td>0.0</td>\n",
       "      <td>0.0</td>\n",
       "      <td>0.0</td>\n",
       "      <td>0.0</td>\n",
       "      <td>0.0</td>\n",
       "    </tr>\n",
       "  </tbody>\n",
       "</table>\n",
       "</div>"
      ],
      "text/plain": [
       "                 0.78697 0.041667   1.0343 0.0030988      1   339.47   313.21  \\\n",
       "datatype         float64  float64  float64   float64  int64  float64  float64   \n",
       "pct_null_values      0.0      0.0      0.0       0.0    0.0      0.0      0.0   \n",
       "\n",
       "                  355.85   386.69    399.7   359.67   331.49    319.5  \\\n",
       "datatype         float64  float64  float64  float64  float64  float64   \n",
       "pct_null_values      0.0      0.0      0.0      0.0      0.0      0.0   \n",
       "\n",
       "                  315.81  0.16961        0  \n",
       "datatype         float64  float64  float64  \n",
       "pct_null_values      0.0      0.0      0.0  "
      ]
     },
     "execution_count": 284,
     "metadata": {},
     "output_type": "execute_result"
    }
   ],
   "source": [
    "# create a pandas dataframe of each features, data-type, percentage of num of null values\n",
    "# helps identify null values for each feature \n",
    "df_details = pd.DataFrame(df.dtypes).T.rename(index={0:'datatype'})\n",
    "df_details = df_details.append(pd.DataFrame(df.isnull().sum()/len(df)*100).T.rename(index={0:'pct_null_values'}))\n",
    "df_details"
   ]
  },
  {
   "cell_type": "code",
   "execution_count": 285,
   "id": "d8afab0c",
   "metadata": {},
   "outputs": [
    {
     "ename": "TypeError",
     "evalue": "Index(...) must be called with a collection of some kind, 'feat1' was passed",
     "output_type": "error",
     "traceback": [
      "\u001b[0;31m---------------------------------------------------------------------------\u001b[0m",
      "\u001b[0;31mTypeError\u001b[0m                                 Traceback (most recent call last)",
      "\u001b[0;32m/var/folders/my/d5526xtn3bx84wsqy_807cf00000gn/T/ipykernel_66542/2235328694.py\u001b[0m in \u001b[0;36m<module>\u001b[0;34m\u001b[0m\n\u001b[1;32m      1\u001b[0m \u001b[0;32mfor\u001b[0m \u001b[0mi\u001b[0m \u001b[0;32min\u001b[0m \u001b[0mrange\u001b[0m\u001b[0;34m(\u001b[0m\u001b[0;36m1\u001b[0m\u001b[0;34m,\u001b[0m\u001b[0;36m15\u001b[0m\u001b[0;34m)\u001b[0m\u001b[0;34m:\u001b[0m\u001b[0;34m\u001b[0m\u001b[0;34m\u001b[0m\u001b[0m\n\u001b[1;32m      2\u001b[0m     \u001b[0mnew_col\u001b[0m \u001b[0;34m=\u001b[0m \u001b[0;34mf'feat{i}'\u001b[0m\u001b[0;34m\u001b[0m\u001b[0;34m\u001b[0m\u001b[0m\n\u001b[0;32m----> 3\u001b[0;31m     \u001b[0mdf\u001b[0m\u001b[0;34m.\u001b[0m\u001b[0mcolumns\u001b[0m \u001b[0;34m=\u001b[0m \u001b[0mnew_col\u001b[0m\u001b[0;34m\u001b[0m\u001b[0;34m\u001b[0m\u001b[0m\n\u001b[0m\u001b[1;32m      4\u001b[0m     \u001b[0mprint\u001b[0m\u001b[0;34m(\u001b[0m\u001b[0mnew_col\u001b[0m\u001b[0;34m)\u001b[0m\u001b[0;34m\u001b[0m\u001b[0;34m\u001b[0m\u001b[0m\n\u001b[1;32m      5\u001b[0m \u001b[0;31m#     new_col = 'target_'+ i\u001b[0m\u001b[0;34m\u001b[0m\u001b[0;34m\u001b[0m\u001b[0m\n",
      "\u001b[0;32m~/opt/anaconda3/lib/python3.9/site-packages/pandas/core/generic.py\u001b[0m in \u001b[0;36m__setattr__\u001b[0;34m(self, name, value)\u001b[0m\n\u001b[1;32m   5498\u001b[0m         \u001b[0;32mtry\u001b[0m\u001b[0;34m:\u001b[0m\u001b[0;34m\u001b[0m\u001b[0;34m\u001b[0m\u001b[0m\n\u001b[1;32m   5499\u001b[0m             \u001b[0mobject\u001b[0m\u001b[0;34m.\u001b[0m\u001b[0m__getattribute__\u001b[0m\u001b[0;34m(\u001b[0m\u001b[0mself\u001b[0m\u001b[0;34m,\u001b[0m \u001b[0mname\u001b[0m\u001b[0;34m)\u001b[0m\u001b[0;34m\u001b[0m\u001b[0;34m\u001b[0m\u001b[0m\n\u001b[0;32m-> 5500\u001b[0;31m             \u001b[0;32mreturn\u001b[0m \u001b[0mobject\u001b[0m\u001b[0;34m.\u001b[0m\u001b[0m__setattr__\u001b[0m\u001b[0;34m(\u001b[0m\u001b[0mself\u001b[0m\u001b[0;34m,\u001b[0m \u001b[0mname\u001b[0m\u001b[0;34m,\u001b[0m \u001b[0mvalue\u001b[0m\u001b[0;34m)\u001b[0m\u001b[0;34m\u001b[0m\u001b[0;34m\u001b[0m\u001b[0m\n\u001b[0m\u001b[1;32m   5501\u001b[0m         \u001b[0;32mexcept\u001b[0m \u001b[0mAttributeError\u001b[0m\u001b[0;34m:\u001b[0m\u001b[0;34m\u001b[0m\u001b[0;34m\u001b[0m\u001b[0m\n\u001b[1;32m   5502\u001b[0m             \u001b[0;32mpass\u001b[0m\u001b[0;34m\u001b[0m\u001b[0;34m\u001b[0m\u001b[0m\n",
      "\u001b[0;32m~/opt/anaconda3/lib/python3.9/site-packages/pandas/_libs/properties.pyx\u001b[0m in \u001b[0;36mpandas._libs.properties.AxisProperty.__set__\u001b[0;34m()\u001b[0m\n",
      "\u001b[0;32m~/opt/anaconda3/lib/python3.9/site-packages/pandas/core/generic.py\u001b[0m in \u001b[0;36m_set_axis\u001b[0;34m(self, axis, labels)\u001b[0m\n\u001b[1;32m    763\u001b[0m \u001b[0;34m\u001b[0m\u001b[0m\n\u001b[1;32m    764\u001b[0m     \u001b[0;32mdef\u001b[0m \u001b[0m_set_axis\u001b[0m\u001b[0;34m(\u001b[0m\u001b[0mself\u001b[0m\u001b[0;34m,\u001b[0m \u001b[0maxis\u001b[0m\u001b[0;34m:\u001b[0m \u001b[0mint\u001b[0m\u001b[0;34m,\u001b[0m \u001b[0mlabels\u001b[0m\u001b[0;34m:\u001b[0m \u001b[0mIndex\u001b[0m\u001b[0;34m)\u001b[0m \u001b[0;34m->\u001b[0m \u001b[0;32mNone\u001b[0m\u001b[0;34m:\u001b[0m\u001b[0;34m\u001b[0m\u001b[0;34m\u001b[0m\u001b[0m\n\u001b[0;32m--> 765\u001b[0;31m         \u001b[0mlabels\u001b[0m \u001b[0;34m=\u001b[0m \u001b[0mensure_index\u001b[0m\u001b[0;34m(\u001b[0m\u001b[0mlabels\u001b[0m\u001b[0;34m)\u001b[0m\u001b[0;34m\u001b[0m\u001b[0;34m\u001b[0m\u001b[0m\n\u001b[0m\u001b[1;32m    766\u001b[0m         \u001b[0mself\u001b[0m\u001b[0;34m.\u001b[0m\u001b[0m_mgr\u001b[0m\u001b[0;34m.\u001b[0m\u001b[0mset_axis\u001b[0m\u001b[0;34m(\u001b[0m\u001b[0maxis\u001b[0m\u001b[0;34m,\u001b[0m \u001b[0mlabels\u001b[0m\u001b[0;34m)\u001b[0m\u001b[0;34m\u001b[0m\u001b[0;34m\u001b[0m\u001b[0m\n\u001b[1;32m    767\u001b[0m         \u001b[0mself\u001b[0m\u001b[0;34m.\u001b[0m\u001b[0m_clear_item_cache\u001b[0m\u001b[0;34m(\u001b[0m\u001b[0;34m)\u001b[0m\u001b[0;34m\u001b[0m\u001b[0;34m\u001b[0m\u001b[0m\n",
      "\u001b[0;32m~/opt/anaconda3/lib/python3.9/site-packages/pandas/core/indexes/base.py\u001b[0m in \u001b[0;36mensure_index\u001b[0;34m(index_like, copy)\u001b[0m\n\u001b[1;32m   6334\u001b[0m     \u001b[0;32melse\u001b[0m\u001b[0;34m:\u001b[0m\u001b[0;34m\u001b[0m\u001b[0;34m\u001b[0m\u001b[0m\n\u001b[1;32m   6335\u001b[0m \u001b[0;34m\u001b[0m\u001b[0m\n\u001b[0;32m-> 6336\u001b[0;31m         \u001b[0;32mreturn\u001b[0m \u001b[0mIndex\u001b[0m\u001b[0;34m(\u001b[0m\u001b[0mindex_like\u001b[0m\u001b[0;34m,\u001b[0m \u001b[0mcopy\u001b[0m\u001b[0;34m=\u001b[0m\u001b[0mcopy\u001b[0m\u001b[0;34m)\u001b[0m\u001b[0;34m\u001b[0m\u001b[0;34m\u001b[0m\u001b[0m\n\u001b[0m\u001b[1;32m   6337\u001b[0m \u001b[0;34m\u001b[0m\u001b[0m\n\u001b[1;32m   6338\u001b[0m \u001b[0;34m\u001b[0m\u001b[0m\n",
      "\u001b[0;32m~/opt/anaconda3/lib/python3.9/site-packages/pandas/core/indexes/base.py\u001b[0m in \u001b[0;36m__new__\u001b[0;34m(cls, data, dtype, copy, name, tupleize_cols, **kwargs)\u001b[0m\n\u001b[1;32m    472\u001b[0m \u001b[0;34m\u001b[0m\u001b[0m\n\u001b[1;32m    473\u001b[0m         \u001b[0;32melif\u001b[0m \u001b[0mis_scalar\u001b[0m\u001b[0;34m(\u001b[0m\u001b[0mdata\u001b[0m\u001b[0;34m)\u001b[0m\u001b[0;34m:\u001b[0m\u001b[0;34m\u001b[0m\u001b[0;34m\u001b[0m\u001b[0m\n\u001b[0;32m--> 474\u001b[0;31m             \u001b[0;32mraise\u001b[0m \u001b[0mcls\u001b[0m\u001b[0;34m.\u001b[0m\u001b[0m_scalar_data_error\u001b[0m\u001b[0;34m(\u001b[0m\u001b[0mdata\u001b[0m\u001b[0;34m)\u001b[0m\u001b[0;34m\u001b[0m\u001b[0;34m\u001b[0m\u001b[0m\n\u001b[0m\u001b[1;32m    475\u001b[0m         \u001b[0;32melif\u001b[0m \u001b[0mhasattr\u001b[0m\u001b[0;34m(\u001b[0m\u001b[0mdata\u001b[0m\u001b[0;34m,\u001b[0m \u001b[0;34m\"__array__\"\u001b[0m\u001b[0;34m)\u001b[0m\u001b[0;34m:\u001b[0m\u001b[0;34m\u001b[0m\u001b[0;34m\u001b[0m\u001b[0m\n\u001b[1;32m    476\u001b[0m             \u001b[0;32mreturn\u001b[0m \u001b[0mIndex\u001b[0m\u001b[0;34m(\u001b[0m\u001b[0mnp\u001b[0m\u001b[0;34m.\u001b[0m\u001b[0masarray\u001b[0m\u001b[0;34m(\u001b[0m\u001b[0mdata\u001b[0m\u001b[0;34m)\u001b[0m\u001b[0;34m,\u001b[0m \u001b[0mdtype\u001b[0m\u001b[0;34m=\u001b[0m\u001b[0mdtype\u001b[0m\u001b[0;34m,\u001b[0m \u001b[0mcopy\u001b[0m\u001b[0;34m=\u001b[0m\u001b[0mcopy\u001b[0m\u001b[0;34m,\u001b[0m \u001b[0mname\u001b[0m\u001b[0;34m=\u001b[0m\u001b[0mname\u001b[0m\u001b[0;34m,\u001b[0m \u001b[0;34m**\u001b[0m\u001b[0mkwargs\u001b[0m\u001b[0;34m)\u001b[0m\u001b[0;34m\u001b[0m\u001b[0;34m\u001b[0m\u001b[0m\n",
      "\u001b[0;31mTypeError\u001b[0m: Index(...) must be called with a collection of some kind, 'feat1' was passed"
     ]
    }
   ],
   "source": [
    "for i in range(1,15):\n",
    "    new_col = f'feat{i}'\n",
    "#     df.columns = new_col\n",
    "#     print(new_col)\n",
    "# #     new_col = 'target_'+ i\n",
    "new_col = ['target','feat1','feat2','feat3','feat4','feat5', 'feat6','feat7','feat8','feat9','feat10', 'feat11','feat12','feat13','feat14','feat15']\n",
    "\n",
    "df.columns = new_col \n",
    "df.columns\n"
   ]
  },
  {
   "cell_type": "code",
   "execution_count": 250,
   "id": "02001d0e",
   "metadata": {},
   "outputs": [
    {
     "name": "stdout",
     "output_type": "stream",
     "text": [
      "['target', 'feat2', 'feat3', 'feat4', 'feat14', 'feat15']\n"
     ]
    }
   ],
   "source": [
    "var_threshold = VarianceThreshold(threshold=0.1)\n",
    "var_threshold.fit(df)\n",
    "\n",
    "# get the number of feature coumns with 0 variance \n",
    "constant_col = [col for col in df.columns if col not in df.columns[var_threshold.get_support()]]\n",
    "# drop feature with 0 variance (constanct features) \n",
    "# df.drop(constant_col[0], axis=1, inplace=True)\n",
    "# print(constant_col[0])\n",
    "print(constant_col)"
   ]
  },
  {
   "cell_type": "code",
   "execution_count": 251,
   "id": "395695c1",
   "metadata": {},
   "outputs": [
    {
     "name": "stdout",
     "output_type": "stream",
     "text": [
      "{'feat11', 'feat12', 'feat6', 'feat8', 'feat13'}\n"
     ]
    }
   ],
   "source": [
    "def drop_corr(df, threshold):\n",
    "    # set of all the names of correlated columns\n",
    "    col_corr = set()\n",
    "    corr_matrix = df.corr()\n",
    "    for i in range(len(corr_matrix.columns)):\n",
    "        for j in range(i):\n",
    "            # get the coefficient value\n",
    "            if corr_matrix.iloc[i, j] > threshold:\n",
    "                colname = corr_matrix.columns[i]\n",
    "                col_corr.add(colname)\n",
    "    return col_corr\n",
    "    \n",
    "corr_features = drop_corr(df, 0.80)\n",
    "print(corr_features)\n",
    "# df.drop(corr_features, axis=1, inplace=True)"
   ]
  },
  {
   "cell_type": "code",
   "execution_count": 252,
   "id": "bce63229",
   "metadata": {},
   "outputs": [
    {
     "name": "stdout",
     "output_type": "stream",
     "text": [
      "Index(['feat1', 'feat2', 'feat3', 'feat4', 'feat5', 'feat6', 'feat7', 'feat8',\n",
      "       'feat9', 'feat10', 'feat11', 'feat12', 'feat13', 'feat14', 'feat15'],\n",
      "      dtype='object')\n"
     ]
    },
    {
     "data": {
      "image/png": "[encoded data removed]",
      "text/plain": [
       "<Figure size 1440x720 with 1 Axes>"
      ]
     },
     "metadata": {},
     "output_type": "display_data"
    }
   ],
   "source": [
    "target = df['target']\n",
    "features = df.drop('target', axis=1)\n",
    "\n",
    "# determine the mutual information for classification \n",
    "# output a value between [0,1], the higher the value the more dependent on target values\n",
    "mutual_info = mutual_info_regression(features, target)\n",
    "# convert into series and get column names \n",
    "mutual_info = pd.Series(mutual_info)\n",
    "mutual_info.index = features.columns\n",
    "\n",
    "# plot ordered mutual_info values per feature \n",
    "mutual_info.sort_values(ascending=False).plot(kind='barh', figsize=(20,10))\n",
    "print(mutual_info.index)"
   ]
  },
  {
   "cell_type": "code",
   "execution_count": 253,
   "id": "56ec2320",
   "metadata": {},
   "outputs": [
    {
     "data": {
      "image/png": "[encoded data removed]",
      "text/plain": [
       "<Figure size 1440x720 with 1 Axes>"
      ]
     },
     "metadata": {},
     "output_type": "display_data"
    }
   ],
   "source": [
    "model = ExtraTreeRegressor()\n",
    "model.fit(features, target)\n",
    "\n",
    "# plot the feature importance\n",
    "feat_importance = pd.Series(model.feature_importances_, index = features.columns)\n",
    "feat_importance.nlargest(20).plot(kind='barh', figsize=(20,10))\n",
    "plt.show()"
   ]
  },
  {
   "cell_type": "code",
   "execution_count": 254,
   "id": "923a742f",
   "metadata": {},
   "outputs": [
    {
     "data": {
      "image/png": "[encoded data removed]",
      "text/plain": [
       "<Figure size 792x648 with 2 Axes>"
      ]
     },
     "metadata": {},
     "output_type": "display_data"
    }
   ],
   "source": [
    "# plot correlation \n",
    "def pearson_corr(dataframe):\n",
    "    corr = dataframe.corr()\n",
    "    mask = np.triu(np.ones_like(corr, dtype=bool))\n",
    "    f, ax = plt.subplots(figsize=(11, 9))\n",
    "    cmap = sns.diverging_palette(230, 20, as_cmap=True)\n",
    "    sns.heatmap(corr, mask=mask, cmap=cmap, vmax=.3, center=0,\n",
    "                square=True, linewidths=.5, cbar_kws={\"shrink\": .5})\n",
    "    \n",
    "pearson_corr(df)"
   ]
  },
  {
   "cell_type": "code",
   "execution_count": 255,
   "id": "cefeb4b3",
   "metadata": {},
   "outputs": [],
   "source": [
    "df = df[['target', 'feat1', 'feat3']]"
   ]
  },
  {
   "cell_type": "code",
   "execution_count": 256,
   "id": "d125c87b",
   "metadata": {},
   "outputs": [
    {
     "data": {
      "text/plain": [
       "<AxesSubplot:>"
      ]
     },
     "execution_count": 256,
     "metadata": {},
     "output_type": "execute_result"
    },
    {
     "data": {
      "image/png": "[encoded data removed]",
      "text/plain": [
       "<Figure size 432x288 with 1 Axes>"
      ]
     },
     "metadata": {},
     "output_type": "display_data"
    }
   ],
   "source": [
    "df.target.plot()\n"
   ]
  },
  {
   "cell_type": "code",
   "execution_count": 257,
   "id": "a0af0172",
   "metadata": {},
   "outputs": [
    {
     "data": {
      "text/plain": [
       "<AxesSubplot:>"
      ]
     },
     "execution_count": 257,
     "metadata": {},
     "output_type": "execute_result"
    },
    {
     "data": {
      "image/png": "[encoded data removed]",
      "text/plain": [
       "<Figure size 432x288 with 1 Axes>"
      ]
     },
     "metadata": {},
     "output_type": "display_data"
    }
   ],
   "source": [
    "df.feat1.plot()"
   ]
  },
  {
   "cell_type": "code",
   "execution_count": 258,
   "id": "1bfeac83",
   "metadata": {},
   "outputs": [
    {
     "data": {
      "text/plain": [
       "<AxesSubplot:>"
      ]
     },
     "execution_count": 258,
     "metadata": {},
     "output_type": "execute_result"
    },
    {
     "data": {
      "image/png": "[encoded data removed]",
      "text/plain": [
       "<Figure size 432x288 with 1 Axes>"
      ]
     },
     "metadata": {},
     "output_type": "display_data"
    }
   ],
   "source": [
    "df.feat3.plot()"
   ]
  },
  {
   "cell_type": "code",
   "execution_count": 259,
   "id": "ff73f0e3",
   "metadata": {},
   "outputs": [],
   "source": [
    "def adfuller_test(df, feature):\n",
    "    result=adfuller(df[feature])\n",
    "    if result[1] <= 0.05:\n",
    "        print(\"p-value is less than .05 - time series is stationary\")\n",
    "    else:\n",
    "        print(\"P-value is not less than .05 - time series is non-stationary\")"
   ]
  },
  {
   "cell_type": "code",
   "execution_count": 260,
   "id": "6ce10033",
   "metadata": {},
   "outputs": [
    {
     "name": "stdout",
     "output_type": "stream",
     "text": [
      "P-value is not less than .05 - time series is non-stationary\n",
      "P-value is not less than .05 - time series is non-stationary\n",
      "p-value is less than .05 - time series is stationary\n"
     ]
    }
   ],
   "source": [
    "for col in df1.columns:\n",
    "    adfuller_test(df, col)"
   ]
  },
  {
   "cell_type": "code",
   "execution_count": 261,
   "id": "dcf42ae0",
   "metadata": {},
   "outputs": [
    {
     "data": {
      "text/html": [
       "<div>\n",
       "<style scoped>\n",
       "    .dataframe tbody tr th:only-of-type {\n",
       "        vertical-align: middle;\n",
       "    }\n",
       "\n",
       "    .dataframe tbody tr th {\n",
       "        vertical-align: top;\n",
       "    }\n",
       "\n",
       "    .dataframe thead th {\n",
       "        text-align: right;\n",
       "    }\n",
       "</style>\n",
       "<table border=\"1\" class=\"dataframe\">\n",
       "  <thead>\n",
       "    <tr style=\"text-align: right;\">\n",
       "      <th></th>\n",
       "      <th>target</th>\n",
       "      <th>feat1</th>\n",
       "      <th>feat3</th>\n",
       "    </tr>\n",
       "  </thead>\n",
       "  <tbody>\n",
       "    <tr>\n",
       "      <th>1</th>\n",
       "      <td>0.00026</td>\n",
       "      <td>0.041667</td>\n",
       "      <td>0.000135</td>\n",
       "    </tr>\n",
       "    <tr>\n",
       "      <th>2</th>\n",
       "      <td>0.00749</td>\n",
       "      <td>0.041670</td>\n",
       "      <td>-0.000042</td>\n",
       "    </tr>\n",
       "    <tr>\n",
       "      <th>3</th>\n",
       "      <td>-0.00652</td>\n",
       "      <td>0.041660</td>\n",
       "      <td>0.000086</td>\n",
       "    </tr>\n",
       "    <tr>\n",
       "      <th>4</th>\n",
       "      <td>0.00456</td>\n",
       "      <td>0.041670</td>\n",
       "      <td>-0.000020</td>\n",
       "    </tr>\n",
       "    <tr>\n",
       "      <th>5</th>\n",
       "      <td>0.00049</td>\n",
       "      <td>0.041670</td>\n",
       "      <td>-0.000104</td>\n",
       "    </tr>\n",
       "  </tbody>\n",
       "</table>\n",
       "</div>"
      ],
      "text/plain": [
       "    target     feat1     feat3\n",
       "1  0.00026  0.041667  0.000135\n",
       "2  0.00749  0.041670 -0.000042\n",
       "3 -0.00652  0.041660  0.000086\n",
       "4  0.00456  0.041670 -0.000020\n",
       "5  0.00049  0.041670 -0.000104"
      ]
     },
     "execution_count": 261,
     "metadata": {},
     "output_type": "execute_result"
    }
   ],
   "source": [
    "df1 = df.diff().dropna()\n",
    "df1.head()"
   ]
  },
  {
   "cell_type": "code",
   "execution_count": 262,
   "id": "b6fc889c",
   "metadata": {},
   "outputs": [
    {
     "data": {
      "text/plain": [
       "target    0\n",
       "feat1     0\n",
       "feat3     0\n",
       "dtype: int64"
      ]
     },
     "execution_count": 262,
     "metadata": {},
     "output_type": "execute_result"
    }
   ],
   "source": [
    "df1.isnull().sum()"
   ]
  },
  {
   "cell_type": "code",
   "execution_count": 263,
   "id": "e8f817c1",
   "metadata": {},
   "outputs": [
    {
     "name": "stdout",
     "output_type": "stream",
     "text": [
      "P-value is not less than .05 - time series is non-stationary\n",
      "P-value is not less than .05 - time series is non-stationary\n",
      "p-value is less than .05 - time series is stationary\n"
     ]
    }
   ],
   "source": [
    "for col in df1.columns:\n",
    "    adfuller_test(df, col)"
   ]
  },
  {
   "cell_type": "code",
   "execution_count": 264,
   "id": "d039bf41",
   "metadata": {},
   "outputs": [],
   "source": [
    "df.to_csv('../inputs/clean_data.csv', index=False)"
   ]
  },
  {
   "cell_type": "code",
   "execution_count": 265,
   "id": "4257eec5",
   "metadata": {},
   "outputs": [],
   "source": [
    "from statsmodels.graphics.tsaplots import plot_acf,plot_pacf\n",
    "import statsmodels.api as sm\n"
   ]
  },
  {
   "cell_type": "code",
   "execution_count": 266,
   "id": "31c14bc1",
   "metadata": {},
   "outputs": [
    {
     "data": {
      "image/png": "[encoded data removed]",
      "text/plain": [
       "<Figure size 864x576 with 2 Axes>"
      ]
     },
     "metadata": {},
     "output_type": "display_data"
    }
   ],
   "source": [
    "fig = plt.figure(figsize=(12,8))\n",
    "ax1 = fig.add_subplot(211)\n",
    "fig = sm.graphics.tsa.plot_acf(df.feat1.iloc[13:],lags=40,ax=ax1)\n",
    "\n",
    "# Rather than giving the autocorrelations, it gives you the partial autocorrelation.\n",
    "ax2 = fig.add_subplot(212)\n",
    "fig = sm.graphics.tsa.plot_pacf(df.feat3.iloc[13:],lags=40,ax=ax2)"
   ]
  },
  {
   "cell_type": "code",
   "execution_count": null,
   "id": "4c349334",
   "metadata": {},
   "outputs": [],
   "source": []
  },
  {
   "cell_type": "code",
   "execution_count": null,
   "id": "d4b6ebbd",
   "metadata": {},
   "outputs": [],
   "source": []
  },
  {
   "cell_type": "code",
   "execution_count": null,
   "id": "aeb0cbda",
   "metadata": {},
   "outputs": [],
   "source": []
  },
  {
   "cell_type": "code",
   "execution_count": null,
   "id": "91792527",
   "metadata": {},
   "outputs": [],
   "source": []
  }
 ],
 "metadata": {
  "kernelspec": {
   "display_name": "Python 3 (ipykernel)",
   "language": "python",
   "name": "python3"
  },
  "language_info": {
   "codemirror_mode": {
    "name": "ipython",
    "version": 3
   },
   "file_extension": ".py",
   "mimetype": "text/x-python",
   "name": "python",
   "nbconvert_exporter": "python",
   "pygments_lexer": "ipython3",
   "version": "3.9.7"
  }
 },
 "nbformat": 4,
 "nbformat_minor": 5
}
